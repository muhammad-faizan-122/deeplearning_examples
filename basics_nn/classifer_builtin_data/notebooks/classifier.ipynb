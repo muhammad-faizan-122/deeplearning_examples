{
 "cells": [
  {
   "cell_type": "code",
   "execution_count": null,
   "id": "2dca7f29",
   "metadata": {},
   "outputs": [
    {
     "name": "stdout",
     "output_type": "stream",
     "text": [
      "type of test_dataloader: <class 'torch.utils.data.dataloader.DataLoader'>\n",
      "Shape of X [N, C, H, W]: torch.Size([32, 1, 28, 28])\n",
      "Shape of y: torch.Size([32]) torch.int64\n",
      "Using cpu device\n",
      "parameter shape:  torch.Size([512, 784])\n",
      "parameter shape:  torch.Size([512])\n",
      "parameter shape:  torch.Size([512, 512])\n",
      "parameter shape:  torch.Size([512])\n",
      "parameter shape:  torch.Size([10, 512])\n",
      "parameter shape:  torch.Size([10])\n",
      "Epoch 1\n",
      "-------------------------------\n",
      "size: 60000\n",
      "loss: 2.309996  [   32/60000]\n",
      "loss: 2.283347  [ 3232/60000]\n",
      "loss: 2.293590  [ 6432/60000]\n",
      "loss: 2.259240  [ 9632/60000]\n",
      "loss: 2.253969  [12832/60000]\n",
      "loss: 2.230578  [16032/60000]\n",
      "loss: 2.206032  [19232/60000]\n",
      "loss: 2.202056  [22432/60000]\n",
      "loss: 2.210904  [25632/60000]\n",
      "loss: 2.151429  [28832/60000]\n",
      "loss: 2.098078  [32032/60000]\n",
      "loss: 2.063769  [35232/60000]\n",
      "loss: 2.153955  [38432/60000]\n",
      "loss: 2.059959  [41632/60000]\n",
      "loss: 2.008172  [44832/60000]\n",
      "loss: 1.996480  [48032/60000]\n",
      "loss: 2.068512  [51232/60000]\n",
      "loss: 1.973129  [54432/60000]\n",
      "loss: 1.896443  [57632/60000]\n",
      "Test Error: \n",
      " Accuracy: 49.7%, Avg loss: 1.882044 \n",
      "\n",
      "Epoch 2\n",
      "-------------------------------\n",
      "size: 60000\n",
      "loss: 1.896371  [   32/60000]\n",
      "loss: 1.910729  [ 3232/60000]\n",
      "loss: 1.842924  [ 6432/60000]\n",
      "loss: 1.758334  [ 9632/60000]\n",
      "loss: 1.721964  [12832/60000]\n",
      "loss: 1.769658  [16032/60000]\n",
      "loss: 1.576728  [19232/60000]\n",
      "loss: 1.589482  [22432/60000]\n",
      "loss: 1.614498  [25632/60000]\n",
      "loss: 1.549660  [28832/60000]\n",
      "loss: 1.399380  [32032/60000]\n",
      "loss: 1.326933  [35232/60000]\n",
      "loss: 1.566332  [38432/60000]\n",
      "loss: 1.415147  [41632/60000]\n",
      "loss: 1.313359  [44832/60000]\n",
      "loss: 1.308979  [48032/60000]\n",
      "loss: 1.415622  [51232/60000]\n",
      "loss: 1.400245  [54432/60000]\n",
      "loss: 1.227053  [57632/60000]\n",
      "Test Error: \n",
      " Accuracy: 63.3%, Avg loss: 1.269135 \n",
      "\n",
      "Epoch 3\n",
      "-------------------------------\n",
      "size: 60000\n",
      "loss: 1.283757  [   32/60000]\n",
      "loss: 1.272127  [ 3232/60000]\n",
      "loss: 1.265295  [ 6432/60000]\n",
      "loss: 1.297568  [ 9632/60000]\n",
      "loss: 1.161427  [12832/60000]\n",
      "loss: 1.330146  [16032/60000]\n",
      "loss: 1.042619  [19232/60000]\n",
      "loss: 1.063701  [22432/60000]\n",
      "loss: 1.126727  [25632/60000]\n",
      "loss: 1.186759  [28832/60000]\n",
      "loss: 1.015122  [32032/60000]\n",
      "loss: 0.953118  [35232/60000]\n",
      "loss: 1.250244  [38432/60000]\n",
      "loss: 1.078212  [41632/60000]\n",
      "loss: 0.999388  [44832/60000]\n",
      "loss: 0.940595  [48032/60000]\n",
      "loss: 1.057540  [51232/60000]\n",
      "loss: 1.159697  [54432/60000]\n",
      "loss: 0.925721  [57632/60000]\n",
      "Test Error: \n",
      " Accuracy: 65.9%, Avg loss: 0.995277 \n",
      "\n",
      "Epoch 4\n",
      "-------------------------------\n",
      "size: 60000\n",
      "loss: 0.970128  [   32/60000]\n",
      "loss: 0.997646  [ 3232/60000]\n",
      "loss: 0.996641  [ 6432/60000]\n",
      "loss: 1.118562  [ 9632/60000]\n",
      "loss: 0.899035  [12832/60000]\n",
      "loss: 1.124971  [16032/60000]\n",
      "loss: 0.809566  [19232/60000]\n",
      "loss: 0.814221  [22432/60000]\n",
      "loss: 0.903873  [25632/60000]\n",
      "loss: 1.061831  [28832/60000]\n",
      "loss: 0.832291  [32032/60000]\n",
      "loss: 0.776037  [35232/60000]\n",
      "loss: 1.131011  [38432/60000]\n",
      "loss: 0.948424  [41632/60000]\n",
      "loss: 0.866514  [44832/60000]\n",
      "loss: 0.774884  [48032/60000]\n",
      "loss: 0.893187  [51232/60000]\n",
      "loss: 1.043225  [54432/60000]\n",
      "loss: 0.796507  [57632/60000]\n",
      "Test Error: \n",
      " Accuracy: 68.1%, Avg loss: 0.865853 \n",
      "\n",
      "Epoch 5\n",
      "-------------------------------\n",
      "size: 60000\n",
      "loss: 0.810170  [   32/60000]\n",
      "loss: 0.884201  [ 3232/60000]\n",
      "loss: 0.859515  [ 6432/60000]\n",
      "loss: 1.005398  [ 9632/60000]\n",
      "loss: 0.767862  [12832/60000]\n",
      "loss: 1.022802  [16032/60000]\n",
      "loss: 0.690559  [19232/60000]\n",
      "loss: 0.676783  [22432/60000]\n",
      "loss: 0.790423  [25632/60000]\n",
      "loss: 1.000131  [28832/60000]\n",
      "loss: 0.740073  [32032/60000]\n",
      "loss: 0.684835  [35232/60000]\n",
      "loss: 1.063692  [38432/60000]\n",
      "loss: 0.895170  [41632/60000]\n",
      "loss: 0.806815  [44832/60000]\n",
      "loss: 0.689085  [48032/60000]\n",
      "loss: 0.802575  [51232/60000]\n",
      "loss: 0.969113  [54432/60000]\n",
      "loss: 0.732638  [57632/60000]\n",
      "Test Error: \n",
      " Accuracy: 70.7%, Avg loss: 0.792098 \n",
      "\n",
      "Done!\n"
     ]
    }
   ],
   "source": [
    "import torch\n",
    "from torch import nn\n",
    "from torch.utils.data import DataLoader\n",
    "from torchvision import datasets\n",
    "from torchvision.transforms import ToTensor\n",
    "\n",
    "\n",
    "training_data = datasets.FashionMNIST(\n",
    "    root=\"data\",\n",
    "    train=True,\n",
    "    download=True,\n",
    "    transform=ToTensor(),\n",
    ")\n",
    "test_data = datasets.FashionMNIST(\n",
    "    root=\"data\",\n",
    "    train=False,\n",
    "    download=True,\n",
    "    transform=ToTensor(),\n",
    ")\n",
    "\n",
    "batch_size = 32\n",
    "\n",
    "train_dataloader = DataLoader(\n",
    "    dataset=training_data,\n",
    "    batch_size=batch_size,\n",
    ")\n",
    "test_dataloader = DataLoader(\n",
    "    dataset=test_data,\n",
    "    batch_size=batch_size,\n",
    ")\n",
    "print(f\"type of test_dataloader: {type(test_dataloader)}\")\n",
    "\n",
    "for X, y in test_dataloader:\n",
    "    print(f\"Shape of X [N, C, H, W]: {X.shape}\")\n",
    "    print(f\"Shape of y: {y.shape} {y.dtype}\")\n",
    "    break\n",
    "\n",
    "device = (\n",
    "    torch.accelerator.current_accelerator().type\n",
    "    if torch.accelerator.is_available()\n",
    "    else \"cpu\"\n",
    ")\n",
    "print(f\"Using {device} device\")\n",
    "\n",
    "\n",
    "# define model\n",
    "class NeuralNetwork(nn.Module):\n",
    "    def __init__(self):\n",
    "        super().__init__()\n",
    "        self.flatten = nn.Flatten()\n",
    "        self.linear_relu_stack = nn.Sequential(\n",
    "            nn.Linear(28 * 28, 512),\n",
    "            nn.ReLU(),\n",
    "            nn.Linear(512, 512),\n",
    "            nn.ReLU(),\n",
    "            nn.Linear(512, 10),\n",
    "        )\n",
    "\n",
    "    def forward(self, x):\n",
    "        x = self.flatten(x)\n",
    "        logits = self.linear_relu_stack(x)\n",
    "        return logits\n",
    "\n",
    "\n",
    "model = NeuralNetwork().to(device=device)\n",
    "# print(\"Neural Network: \", model)\n",
    "# print(\"model parameters: \", model.parameters())\n",
    "for parameters in model.parameters():\n",
    "    print(\"parameter shape: \", parameters.shape)\n",
    "loss_fn = nn.CrossEntropyLoss()\n",
    "optimizer = torch.optim.SGD(model.parameters(), lr=1e-3)\n",
    "\n",
    "\n",
    "def train(data_loader, model, loss_fn, optimizer):\n",
    "    size = len(data_loader.dataset)\n",
    "    print(f\"size: {size}\")\n",
    "    model.train(mode=True)\n",
    "    for batch, (X, y) in enumerate(data_loader):\n",
    "        X, y = X.to(device), y.to(device)\n",
    "        # print(\"input shape \", X.shape, y.shape, batch)\n",
    "        # Compute prediction error\n",
    "        pred = model(X)\n",
    "        loss = loss_fn(pred, y)\n",
    "        # print(pred.shape)\n",
    "        # print(loss)\n",
    "        # backpropagation\n",
    "        loss.backward()\n",
    "        optimizer.step()\n",
    "        optimizer.zero_grad()\n",
    "        if batch % 100 == 0:\n",
    "            loss = loss.item()\n",
    "            current = (batch + 1) * len(X)\n",
    "            print(f\"loss: {loss:>7f}  [{current:>5d}/{size:>5d}]\")\n",
    "\n",
    "\n",
    "def test(dataloader, model, loss_fn):\n",
    "    size = len(dataloader.dataset)\n",
    "    num_batches = len(test_dataloader)\n",
    "    model.eval()\n",
    "    test_loss, correct = 0, 0\n",
    "\n",
    "    with torch.no_grad():\n",
    "        for X, y in test_dataloader:\n",
    "            X, y = X.to(device=device), y.to(device=device)\n",
    "            pred = model(X)\n",
    "            test_loss += loss_fn(pred, y).item()\n",
    "            correct += (pred.argmax(1) == y).type(torch.float).sum().item()\n",
    "\n",
    "        test_loss /= num_batches\n",
    "        correct /= size\n",
    "        print(\n",
    "            f\"Test Error: \\n Accuracy: {(100*correct):>0.1f}%, Avg loss: {test_loss:>8f} \\n\"\n",
    "        )\n",
    "\n",
    "\n",
    "epoch = 5\n",
    "for t in range(epoch):\n",
    "    print(f\"Epoch {t+1}\\n-------------------------------\")\n",
    "    train(\n",
    "        data_loader=train_dataloader,\n",
    "        model=model,\n",
    "        loss_fn=loss_fn,\n",
    "        optimizer=optimizer,\n",
    "    )\n",
    "    test(\n",
    "        dataloader=test_dataloader,\n",
    "        model=model,\n",
    "        loss_fn=loss_fn,\n",
    "    )\n",
    "print(\"Done!\")"
   ]
  },
  {
   "cell_type": "code",
   "execution_count": 5,
   "id": "64068b20",
   "metadata": {},
   "outputs": [],
   "source": [
    "params = model.state_dict()"
   ]
  },
  {
   "cell_type": "code",
   "execution_count": 7,
   "id": "2ab841d4",
   "metadata": {},
   "outputs": [
    {
     "data": {
      "text/plain": [
       "collections.OrderedDict"
      ]
     },
     "execution_count": 7,
     "metadata": {},
     "output_type": "execute_result"
    }
   ],
   "source": [
    "type(params)"
   ]
  },
  {
   "cell_type": "code",
   "execution_count": 9,
   "id": "47ab79bc",
   "metadata": {},
   "outputs": [
    {
     "name": "stdout",
     "output_type": "stream",
     "text": [
      "torch.Size([512, 784])\n",
      "torch.Size([512])\n",
      "torch.Size([512, 512])\n",
      "torch.Size([512])\n",
      "torch.Size([10, 512])\n",
      "torch.Size([10])\n"
     ]
    }
   ],
   "source": [
    "for data in params.values():\n",
    "    print(data.shape)"
   ]
  },
  {
   "cell_type": "code",
   "execution_count": 10,
   "id": "8ca5a9a5",
   "metadata": {},
   "outputs": [],
   "source": [
    "torch.save(model.state_dict(), \"model.pth\")"
   ]
  },
  {
   "cell_type": "code",
   "execution_count": 11,
   "id": "e36d89b1",
   "metadata": {},
   "outputs": [
    {
     "data": {
      "text/plain": [
       "<All keys matched successfully>"
      ]
     },
     "execution_count": 11,
     "metadata": {},
     "output_type": "execute_result"
    }
   ],
   "source": [
    "model = NeuralNetwork().to(device=device)\n",
    "model.load_state_dict(torch.load(\"model.pth\", weights_only=True))"
   ]
  },
  {
   "cell_type": "code",
   "execution_count": 32,
   "id": "dccf0c1a",
   "metadata": {},
   "outputs": [
    {
     "data": {
      "image/png": "[encoded data removed]",
      "text/plain": [
       "<Figure size 640x480 with 1 Axes>"
      ]
     },
     "metadata": {},
     "output_type": "display_data"
    }
   ],
   "source": [
    "import matplotlib.pyplot as plt\n",
    "\n",
    "\n",
    "classes = [\n",
    "    \"T-shirt/top\",\n",
    "    \"Trouser\",\n",
    "    \"Pullover\",\n",
    "    \"Dress\",\n",
    "    \"Coat\",\n",
    "    \"Sandal\",\n",
    "    \"Shirt\",\n",
    "    \"Sneaker\",\n",
    "    \"Bag\",\n",
    "    \"Ankle boot\",\n",
    "]\n",
    "model.eval()\n",
    "x,y = test_data[0][0], test_data[0][1]\n",
    "with torch.no_grad():\n",
    "    x = x.to(device)\n",
    "    pred = model(x).squeeze().argmax(axis=0)\n",
    "    predicted_label, actual_label = classes[pred], classes[y]\n",
    "    plt.imshow(x.squeeze())\n",
    "    plt.title(predicted_label)\n"
   ]
  },
  {
   "cell_type": "code",
   "execution_count": null,
   "id": "3ff50b3b",
   "metadata": {},
   "outputs": [
    {
     "data": {
      "text/plain": [
       "<matplotlib.image.AxesImage at 0x7e0140562f50>"
      ]
     },
     "execution_count": 30,
     "metadata": {},
     "output_type": "execute_result"
    },
    {
     "data": {
      "image/png": "[encoded data removed]",
      "text/plain": [
       "<Figure size 640x480 with 1 Axes>"
      ]
     },
     "metadata": {},
     "output_type": "display_data"
    }
   ],
   "source": []
  },
  {
   "cell_type": "code",
   "execution_count": null,
   "id": "3928d5df",
   "metadata": {},
   "outputs": [],
   "source": []
  }
 ],
 "metadata": {
  "kernelspec": {
   "display_name": "qa_agent",
   "language": "python",
   "name": "python3"
  },
  "language_info": {
   "codemirror_mode": {
    "name": "ipython",
    "version": 3
   },
   "file_extension": ".py",
   "mimetype": "text/x-python",
   "name": "python",
   "nbconvert_exporter": "python",
   "pygments_lexer": "ipython3",
   "version": "3.10.14"
  }
 },
 "nbformat": 4,
 "nbformat_minor": 5
}
