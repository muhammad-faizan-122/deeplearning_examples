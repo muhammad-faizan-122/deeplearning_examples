{
 "cells": [
  {
   "cell_type": "markdown",
   "id": "b775e659",
   "metadata": {},
   "source": [
    "# here is [Torch Tutorial](https://docs.pytorch.org/tutorials/beginner/introyt/introyt1_tutorial.html) "
   ]
  },
  {
   "cell_type": "markdown",
   "id": "db66a6f0",
   "metadata": {},
   "source": [
    "## basics of torch tensor"
   ]
  },
  {
   "cell_type": "code",
   "execution_count": 1,
   "id": "6b953142",
   "metadata": {},
   "outputs": [],
   "source": [
    "import torch"
   ]
  },
  {
   "cell_type": "code",
   "execution_count": 3,
   "id": "37641735",
   "metadata": {},
   "outputs": [
    {
     "data": {
      "text/plain": [
       "(tensor([[0., 0., 0.],\n",
       "         [0., 0., 0.],\n",
       "         [0., 0., 0.],\n",
       "         [0., 0., 0.],\n",
       "         [0., 0., 0.]]),\n",
       " torch.float32)"
      ]
     },
     "execution_count": 3,
     "metadata": {},
     "output_type": "execute_result"
    }
   ],
   "source": [
    "# default datatype is float32\n",
    "z = torch.zeros(5, 3)\n",
    "z, z.dtype"
   ]
  },
  {
   "cell_type": "code",
   "execution_count": null,
   "id": "b292b960",
   "metadata": {},
   "outputs": [],
   "source": []
  },
  {
   "cell_type": "code",
   "execution_count": 8,
   "id": "b6abc2cb",
   "metadata": {},
   "outputs": [
    {
     "data": {
      "text/plain": [
       "(tensor([[1, 1, 1],\n",
       "         [1, 1, 1],\n",
       "         [1, 1, 1],\n",
       "         [1, 1, 1],\n",
       "         [1, 1, 1]], dtype=torch.int16),\n",
       " torch.int16)"
      ]
     },
     "execution_count": 8,
     "metadata": {},
     "output_type": "execute_result"
    }
   ],
   "source": [
    "i = torch.ones((5, 3), dtype=torch.int16)\n",
    "i, i.dtype"
   ]
  },
  {
   "cell_type": "code",
   "execution_count": null,
   "id": "c8fd91a2",
   "metadata": {},
   "outputs": [],
   "source": []
  }
 ],
 "metadata": {
  "kernelspec": {
   "display_name": "qa_agent",
   "language": "python",
   "name": "python3"
  },
  "language_info": {
   "codemirror_mode": {
    "name": "ipython",
    "version": 3
   },
   "file_extension": ".py",
   "mimetype": "text/x-python",
   "name": "python",
   "nbconvert_exporter": "python",
   "pygments_lexer": "ipython3",
   "version": "3.10.14"
  }
 },
 "nbformat": 4,
 "nbformat_minor": 5
}
